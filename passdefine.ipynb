{
 "cells": [
  {
   "cell_type": "code",
   "execution_count": 12,
   "id": "f13eeac7",
   "metadata": {
    "scrolled": true
   },
   "outputs": [
    {
     "name": "stdout",
     "output_type": "stream",
     "text": [
      "pbkdf2:sha256:260000$S2CJKWfbz89G3YsG$ba35d887db3d37578192b0d0dc86a4233daed6987ac4d3d7571129f4e54b60e2 \n",
      "\n",
      "pbkdf2:sha256:260000$dUf8ifC3oG5YwqqC$30b00a8747e650c64ac4f6bef08f19981039d902be7feae6ce79c187a79fa8a9 \n",
      "\n",
      "pbkdf2:sha256:260000$HBagQ4lOAmVohFhm$838b78bc653917e4d43c096ac1a9dfde490609d4ae17b820f1bdbca58d07f736 \n",
      "\n",
      "pbkdf2:sha256:260000$TgPKexJdjTqwpA04$c8ec90f8998d9682c7c13a2c675ffd25b5dce189d1b2c2690c1edaeec225ee2a \n",
      "\n"
     ]
    }
   ],
   "source": [
    "from werkzeug.security import generate_password_hash\n",
    "\n",
    "pass_list=[\"dog123\",\"cat123\",\"bird123\",\"god123\"]\n",
    "\n",
    "for p in pass_list:\n",
    "    print(generate_password_hash(p),\"\\n\")  # ← 好きなやつ\n"
   ]
  },
  {
   "cell_type": "code",
   "execution_count": null,
   "id": "5eef4b5c",
   "metadata": {},
   "outputs": [],
   "source": []
  },
  {
   "cell_type": "code",
   "execution_count": null,
   "id": "16eddaab",
   "metadata": {},
   "outputs": [],
   "source": []
  }
 ],
 "metadata": {
  "kernelspec": {
   "display_name": "Python 3 (ipykernel)",
   "language": "python",
   "name": "python3"
  },
  "language_info": {
   "codemirror_mode": {
    "name": "ipython",
    "version": 3
   },
   "file_extension": ".py",
   "mimetype": "text/x-python",
   "name": "python",
   "nbconvert_exporter": "python",
   "pygments_lexer": "ipython3",
   "version": "3.9.7"
  }
 },
 "nbformat": 4,
 "nbformat_minor": 5
}
